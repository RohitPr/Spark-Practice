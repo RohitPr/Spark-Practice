{
 "cells": [
  {
   "cell_type": "code",
   "execution_count": 1,
   "metadata": {},
   "outputs": [],
   "source": [
    "from threading import local\n",
    "import datetime\n",
    "from pyspark.sql.functions import *\n",
    "from pyspark.sql import SparkSession\n",
    "from pyspark.sql.window import Window\n",
    "from pyspark.sql.types import *\n",
    "\n",
    "\n",
    "spark = SparkSession \\\n",
    "    .builder \\\n",
    "    .appName('Spark') \\\n",
    "    .master('local[*]') \\\n",
    "    .config('spark.sql.analyzer.failAmbiguousSelfJoin', False).getOrCreate()\n",
    "    \n"
   ]
  },
  {
   "cell_type": "code",
   "execution_count": 2,
   "metadata": {},
   "outputs": [
    {
     "name": "stdout",
     "output_type": "stream",
     "text": [
      "['age', 'workclass', 'fnlwgt', 'education', 'education-num', 'marital-status', 'occupation', 'relationship', 'race', 'sex', 'capital-gain', 'capital-loss', 'hours-per-week', 'country', 'salary']\n"
     ]
    }
   ],
   "source": [
    "read_df = spark.read.csv(\n",
    "    './adult/adult.csv', header=True, inferSchema=True)\n",
    "\n",
    "print(read_df.columns)\n"
   ]
  },
  {
   "cell_type": "code",
   "execution_count": 3,
   "metadata": {},
   "outputs": [
    {
     "name": "stdout",
     "output_type": "stream",
     "text": [
      "+---+-----------------+------+-------------+-------------+-------------------+------------------+--------------+-------------------+-------+------------+------------+--------------+-------+------+--------+\n",
      "|age|        workclass|fnlwgt|    education|education-num|     marital-status|        occupation|  relationship|               race|    sex|capital-gain|capital-loss|hours-per-week|country|salary|new_date|\n",
      "+---+-----------------+------+-------------+-------------+-------------------+------------------+--------------+-------------------+-------+------------+------------+--------------+-------+------+--------+\n",
      "| 17|          Private|160118|         12th|            8|      Never-married|             Sales| Not-in-family|              White| Female|           0|           0|            10|      ?| <=50K|       1|\n",
      "| 17|          Private|113301|         11th|            7|      Never-married| Handlers-cleaners|     Own-child|              White|   Male|           0|           0|            12|      ?| <=50K|       1|\n",
      "| 18|          Private|226956|      HS-grad|            9|      Never-married|     Other-service|     Own-child|              White| Female|           0|           0|            30|      ?| <=50K|       2|\n",
      "| 18|          Private|146378| Some-college|           10|      Never-married|     Other-service|     Own-child|              White| Female|           0|           0|            40|      ?| <=50K|       2|\n",
      "| 18|          Private| 74054|         11th|            7|      Never-married|             Sales|     Own-child|              Other| Female|           0|           0|            20|      ?| <=50K|       2|\n",
      "| 18|          Private|120691| Some-college|           10|      Never-married|     Other-service|     Own-child|              Black|   Male|           0|           0|            35|      ?| <=50K|       2|\n",
      "| 18|          Private|118376| Some-college|           10|      Never-married|     Other-service|     Own-child|              White| Female|           0|           0|            16|      ?| <=50K|       2|\n",
      "| 18| Self-emp-not-inc|296090|      HS-grad|            9|      Never-married|             Sales|     Own-child|              White|   Male|           0|           0|            48|      ?| <=50K|       2|\n",
      "| 18|          Private|205894| Some-college|           10|      Never-married|             Sales|     Own-child|              White|   Male|           0|           0|            25|      ?| <=50K|       2|\n",
      "| 18|          Private|174926|          9th|            5|      Never-married|     Other-service|     Own-child|              White|   Male|           0|           0|            15|      ?| <=50K|       2|\n",
      "| 19|          Private|365640|      HS-grad|            9|      Never-married|   Priv-house-serv| Not-in-family|              White| Female|           0|           0|            45|      ?| <=50K|       3|\n",
      "| 19|          Private|158343| Some-college|           10|      Never-married|      Tech-support|     Own-child|              White| Female|           0|           0|            40|      ?| <=50K|       3|\n",
      "| 19|          Private|258633| Some-college|           10|      Never-married|      Adm-clerical|     Own-child|              White| Female|           0|           0|            25|      ?| <=50K|       3|\n",
      "| 19|          Private|223648|         11th|            7|      Never-married|             Sales|     Own-child|              White|   Male|           0|           0|            20|      ?| <=50K|       3|\n",
      "| 19|          Private|254247|         12th|            8|      Never-married|      Adm-clerical|     Own-child|              White|   Male|           0|           0|            38|      ?| <=50K|       3|\n",
      "| 20|          Private| 54152| Some-college|           10|      Never-married|      Adm-clerical|     Own-child|              White| Female|           0|           0|            30|      ?| <=50K|       4|\n",
      "| 20|          Private|197496| Some-college|           10|      Never-married|             Sales|     Own-child|              White|   Male|           0|           0|            30|      ?| <=50K|       4|\n",
      "| 20|          Private|285295| Some-college|           10|      Never-married| Machine-op-inspct| Not-in-family| Asian-Pac-Islander| Female|           0|           0|            40|      ?| <=50K|       4|\n",
      "| 20|          Private|219266|      HS-grad|            9| Married-civ-spouse|    Prof-specialty|     Own-child|              White| Female|           0|           0|            36|      ?| <=50K|       4|\n",
      "| 20|          Private|219835| Some-college|           10|      Never-married|             Sales|     Own-child|              White|   Male|           0|           0|            30|      ?| <=50K|       4|\n",
      "+---+-----------------+------+-------------+-------------+-------------------+------------------+--------------+-------------------+-------+------------+------------+--------------+-------+------+--------+\n",
      "only showing top 20 rows\n",
      "\n"
     ]
    }
   ],
   "source": [
    "# windowSpec  = Window.partitionBy(\"country\").orderBy(\"age\")\n",
    "\n",
    "rank_df = read_df.withColumn('new_date', dense_rank().over(Window.partitionBy('country').orderBy('age'))).show()"
   ]
  },
  {
   "cell_type": "code",
   "execution_count": 4,
   "metadata": {},
   "outputs": [
    {
     "name": "stdout",
     "output_type": "stream",
     "text": [
      "+-------------+-----+\n",
      "|    education|count|\n",
      "+-------------+-----+\n",
      "|  Prof-school|  576|\n",
      "|         10th|  933|\n",
      "|      7th-8th|  646|\n",
      "|      5th-6th|  333|\n",
      "|   Assoc-acdm| 1067|\n",
      "|    Assoc-voc| 1382|\n",
      "|      Masters| 1723|\n",
      "|         12th|  433|\n",
      "|    Preschool|   51|\n",
      "|          9th|  514|\n",
      "|    Bachelors| 5355|\n",
      "|    Doctorate|  413|\n",
      "|      HS-grad|10501|\n",
      "|         11th| 1175|\n",
      "| Some-college| 7291|\n",
      "|      1st-4th|  168|\n",
      "+-------------+-----+\n",
      "\n"
     ]
    }
   ],
   "source": [
    "sector_df = read_df.groupBy(read_df.education).count().show()"
   ]
  },
  {
   "cell_type": "code",
   "execution_count": null,
   "metadata": {},
   "outputs": [],
   "source": []
  }
 ],
 "metadata": {
  "kernelspec": {
   "display_name": "Python 3.8.10 64-bit",
   "language": "python",
   "name": "python3"
  },
  "language_info": {
   "codemirror_mode": {
    "name": "ipython",
    "version": 3
   },
   "file_extension": ".py",
   "mimetype": "text/x-python",
   "name": "python",
   "nbconvert_exporter": "python",
   "pygments_lexer": "ipython3",
   "version": "3.8.10"
  },
  "orig_nbformat": 4,
  "vscode": {
   "interpreter": {
    "hash": "4ec375425f7c2afe27dd7659e45608e39f8960e0f76ccdfd8efa4044e92a36f4"
   }
  }
 },
 "nbformat": 4,
 "nbformat_minor": 2
}
