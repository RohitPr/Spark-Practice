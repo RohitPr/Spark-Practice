{
 "cells": [
  {
   "cell_type": "code",
   "execution_count": 20,
   "metadata": {},
   "outputs": [],
   "source": [
    "from email import header\n",
    "import json\n",
    "from threading import local\n",
    "import datetime\n",
    "from pyspark.sql.functions import *\n",
    "from pyspark.sql import SparkSession\n",
    "from pyspark.sql.window import Window\n",
    "from pyspark.sql.types import *\n",
    "import inspect\n",
    "import os.path\n",
    "\n",
    "spark = SparkSession \\\n",
    "    .builder \\\n",
    "    .appName('Spark') \\\n",
    "    .master('local[*]') \\\n",
    "    .config('spark.sql.analyzer.failAmbiguousSelfJoin', False).getOrCreate()\n",
    "    \n"
   ]
  },
  {
   "cell_type": "code",
   "execution_count": 21,
   "metadata": {},
   "outputs": [
    {
     "name": "stdout",
     "output_type": "stream",
     "text": [
      "['age', 'workclass', 'fnlwgt', 'education', 'education-num', 'marital-status', 'occupation', 'relationship', 'race', 'sex', 'capital-gain', 'capital-loss', 'hours-per-week', 'country', 'salary']\n"
     ]
    }
   ],
   "source": [
    "read_df = spark.read.csv(\n",
    "    './adult/adult.csv', header=True, inferSchema=True)\n",
    "\n",
    "print(read_df.columns)\n"
   ]
  },
  {
   "cell_type": "code",
   "execution_count": 23,
   "metadata": {},
   "outputs": [],
   "source": [
    "windowSpec  = Window.partitionBy(\"country\").orderBy(\"age\")\n",
    "\n",
    "rank_df = read_df.withColumn('new_date', rank().over(Window.partitionBy('country').orderBy('age')))"
   ]
  },
  {
   "cell_type": "code",
   "execution_count": 26,
   "metadata": {},
   "outputs": [
    {
     "name": "stdout",
     "output_type": "stream",
     "text": [
      "+-------------+-----+\n",
      "|    education|count|\n",
      "+-------------+-----+\n",
      "|  Prof-school|  576|\n",
      "|         10th|  933|\n",
      "|      7th-8th|  646|\n",
      "|      5th-6th|  333|\n",
      "|   Assoc-acdm| 1067|\n",
      "|    Assoc-voc| 1382|\n",
      "|      Masters| 1723|\n",
      "|         12th|  433|\n",
      "|    Preschool|   51|\n",
      "|          9th|  514|\n",
      "|    Bachelors| 5355|\n",
      "|    Doctorate|  413|\n",
      "|      HS-grad|10501|\n",
      "|         11th| 1175|\n",
      "| Some-college| 7291|\n",
      "|      1st-4th|  168|\n",
      "+-------------+-----+\n",
      "\n"
     ]
    }
   ],
   "source": [
    "sector_df = read_df.groupBy(read_df.education).count().show()"
   ]
  },
  {
   "cell_type": "code",
   "execution_count": null,
   "metadata": {},
   "outputs": [],
   "source": []
  }
 ],
 "metadata": {
  "kernelspec": {
   "display_name": "Python 3.8.10 64-bit",
   "language": "python",
   "name": "python3"
  },
  "language_info": {
   "codemirror_mode": {
    "name": "ipython",
    "version": 3
   },
   "file_extension": ".py",
   "mimetype": "text/x-python",
   "name": "python",
   "nbconvert_exporter": "python",
   "pygments_lexer": "ipython3",
   "version": "3.8.10"
  },
  "orig_nbformat": 4,
  "vscode": {
   "interpreter": {
    "hash": "4ec375425f7c2afe27dd7659e45608e39f8960e0f76ccdfd8efa4044e92a36f4"
   }
  }
 },
 "nbformat": 4,
 "nbformat_minor": 2
}
