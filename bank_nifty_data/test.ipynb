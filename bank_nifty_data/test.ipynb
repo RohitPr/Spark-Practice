{
 "cells": [
  {
   "cell_type": "code",
   "execution_count": null,
   "metadata": {},
   "outputs": [],
   "source": []
  }
 ],
 "metadata": {
  "kernelspec": {
   "display_name": "Python 3.8.10 64-bit",
   "language": "python",
   "name": "python3"
  },
  "language_info": {
   "name": "python",
   "version": "3.8.10"
  },
  "orig_nbformat": 4,
  "vscode": {
   "interpreter": {
    "hash": "4ec375425f7c2afe27dd7659e45608e39f8960e0f76ccdfd8efa4044e92a36f4"
   }
  }
 },
 "nbformat": 4,
 "nbformat_minor": 2
}
