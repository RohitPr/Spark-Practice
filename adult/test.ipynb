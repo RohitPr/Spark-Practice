{
 "cells": [
  {
   "cell_type": "code",
   "execution_count": 2,
   "metadata": {},
   "outputs": [],
   "source": [
    "from pyspark.sql.functions import *\n",
    "from pyspark.sql import SparkSession\n",
    "from pyspark.sql.window import Window\n",
    "from pyspark.sql.types import *\n",
    "import pandas as pd\n"
   ]
  },
  {
   "cell_type": "code",
   "execution_count": 3,
   "metadata": {},
   "outputs": [],
   "source": [
    "spark = SparkSession \\\n",
    "    .builder \\\n",
    "    .appName('Spark') \\\n",
    "    .master('local[*]') \\\n",
    "    .config('spark.sql.analyzer.failAmbiguousSelfJoin', False).getOrCreate()\n",
    "\n",
    "read_df = spark.read.csv(\n",
    "    './adult.csv', header=True, inferSchema=True)"
   ]
  },
  {
   "cell_type": "code",
   "execution_count": 4,
   "metadata": {},
   "outputs": [],
   "source": [
    "# read_df = read_df.select('age', 'workclass', 'fnlwgt', 'education', 'country')\n",
    "\n",
    "# windowSpec  = Window.partitionBy(\"country\").orderBy(\"age\")\n",
    "\n",
    "# read_df = read_df.withColumn('new_date', rank().over(\n",
    "#     Window.partitionBy('country').orderBy('age'))).show()"
   ]
  },
  {
   "cell_type": "code",
   "execution_count": 5,
   "metadata": {},
   "outputs": [
    {
     "name": "stdout",
     "output_type": "stream",
     "text": [
      "['age', 'workclass', 'fnlwgt', 'education', 'education-num', 'marital-status', 'occupation', 'relationship', 'race', 'sex', 'capital-gain', 'capital-loss', 'hours-per-week', 'country', 'salary']\n"
     ]
    }
   ],
   "source": [
    "print(read_df.columns)\n"
   ]
  },
  {
   "cell_type": "code",
   "execution_count": 15,
   "metadata": {},
   "outputs": [],
   "source": [
    "read_df_1 = read_df.select('age', 'workclass', 'education',  'marital-status', 'occupation', 'relationship', 'capital-gain', 'capital-loss', 'hours-per-week', 'country', 'salary')\n",
    "\n",
    "# print(read_df_1.columns)\n",
    "\n",
    "# read_df.show(5, truncate=False)\n",
    "\n",
    "# read_df_2 = read_df_1.groupBy('country').agg(count('country').alias('total_count'))\n",
    "\n",
    "# read_df_2.filter(read_df_2.country != 'Cuba').show()\n",
    "\n",
    "read_df_2 = read_df_1.select('education', 'country').distinct().count()"
   ]
  },
  {
   "cell_type": "code",
   "execution_count": null,
   "metadata": {},
   "outputs": [],
   "source": [
    "\n"
   ]
  }
 ],
 "metadata": {
  "kernelspec": {
   "display_name": "Python 3.8.10 64-bit",
   "language": "python",
   "name": "python3"
  },
  "language_info": {
   "codemirror_mode": {
    "name": "ipython",
    "version": 3
   },
   "file_extension": ".py",
   "mimetype": "text/x-python",
   "name": "python",
   "nbconvert_exporter": "python",
   "pygments_lexer": "ipython3",
   "version": "3.8.10"
  },
  "orig_nbformat": 4,
  "vscode": {
   "interpreter": {
    "hash": "4ec375425f7c2afe27dd7659e45608e39f8960e0f76ccdfd8efa4044e92a36f4"
   }
  }
 },
 "nbformat": 4,
 "nbformat_minor": 2
}
